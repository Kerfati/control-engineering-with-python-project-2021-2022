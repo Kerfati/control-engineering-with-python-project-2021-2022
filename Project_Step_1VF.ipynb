{
 "cells": [
  {
   "cell_type": "code",
   "execution_count": 2,
   "metadata": {
    "id": "F34xzo4TU2KJ"
   },
   "outputs": [],
   "source": [
    "import numpy as np\n",
    "from numpy import *\n",
    "from numpy.linalg import *\n",
    "\n",
    "from scipy.integrate import *\n",
    "from scipy.signal import *\n",
    "\n",
    "from matplotlib.pyplot import *"
   ]
  },
  {
   "cell_type": "markdown",
   "metadata": {
    "id": "S-tULtLAU2KU"
   },
   "source": [
    "Chariot Model\n",
    "==============\n",
    "\n",
    "We consider a mobile robot of \"chariot\" type, evolving in the plane.\n",
    "\n",
    "  - From above, its frame appears to be a disk of diameter $D$. \n",
    "  \n",
    "  - It has two fixed wheels (their orientation with respect to the frame does not change; there is no need for a steering wheel!). They are parallel and located at opposite ends of the frame (hence separated by a distance of $D$) ; these wheels have the common radius $R$.\n",
    "\n",
    "  - The robot is symmetric with respect to the axis that joins the two wheels. For convenience, a green sticker is attached at the boundary of the frame on one side of this axis, on the robot axis of symmetry ; this side will is called the \"front\" of the robot, the point itself is called the \"nose\" of the robot. When we talk about the \"left wheel\" or the \"right wheel\", we assume that we are looking towards the front of the robot.\n",
    "\n",
    "We will denote \n",
    "\n",
    "  - $(x, y)$ the coordinates of the wheel axis in the orthonormal and direct frame $(0, e_x, e_y)$ of the plane.\n",
    "  \n",
    "  - $\\theta$ the angle of the wheels direction with respect to vector $e_x$ ; with $\\theta = 0$ when the front of the robot faces the right ($e_x$) and $\\theta = \\pi/2$ when he faces upwards ($e_y$).\n",
    "\n",
    "  - $\\phi_l$ and $\\phi_r$ the rotation angles of the left and right wheel respectively ; by convention, when these angles increase, the robot moves forward."
   ]
  },
  {
   "cell_type": "markdown",
   "metadata": {
    "id": "S2Cep818U2Kc"
   },
   "source": [
    "### Parameter Definition\n",
    "\n",
    "\n",
    "From now on, we assume that the frame diameter is $D = 1 \\mbox{ m}$ and the wheel radius is $R = 10 \\mbox{ cm}$.\n",
    "\n",
    "🧩 Define the corresponding Python variables `D` and `R` (express every length in meters, and more generally in the sequel, always use the [international standard of units](https://en.wikipedia.org/wiki/SI_derived_unit)) for numerical values. "
   ]
  },
  {
   "cell_type": "code",
   "execution_count": 3,
   "metadata": {
    "id": "B_wJ0CoDU2Kf"
   },
   "outputs": [],
   "source": [
    "D=1\n",
    "R=0.1"
   ]
  },
  {
   "cell_type": "markdown",
   "metadata": {
    "id": "9SJzq7BqU2Kg"
   },
   "source": [
    "### Graphical Representation\n",
    "\n",
    "🧩 Implement a function `draw_robot` with arguments `x`, `y` and `theta` that draws the robot in the plane (top view) for arbitrary values of $(x, y)$ and $\\theta$. Represent the robot frame as a circle, the wheels as lines and the nose as an orange point.\n",
    "\n",
    "🗝️ **Hint.** Use the function `plot` of `matplotlib.pyplot`."
   ]
  },
  {
   "cell_type": "code",
   "execution_count": null,
   "metadata": {
    "id": "Dg5ofOQJU2Ki"
   },
   "outputs": [],
   "source": [
    "def draw_robot(x, y, theta):\n",
    "    pass"
   ]
  },
  {
   "cell_type": "markdown",
   "metadata": {
    "id": "JgxVx5pdU2Kj"
   },
   "source": [
    "🧩 Represent the robot in when $(x, y, \\theta) = (0, 0, 0), (2, 2, \\pi/2), (0, 4, -\\pi), (-4, 4, -\\pi), (-8, 4, -\\pi)$.\n",
    "\n",
    "🗝️ **Hint.** Use the following `draw_arena` function beforehand."
   ]
  },
  {
   "cell_type": "code",
   "execution_count": 4,
   "metadata": {
    "id": "juBibJ6fU2Km"
   },
   "outputs": [],
   "source": [
    "def draw_arena(xmin=-12, xmax=12, ymin=-9, ymax=9):\n",
    "    wh_ratio = (xmax - xmin) / (ymax - ymin)\n",
    "    figsize = fig_width, fig_height = 16, 16 / wh_ratio\n",
    "    figure(figsize=figsize)\n",
    "    axes = gca()\n",
    "    axes.axis([xmin, xmax, ymin, ymax])\n",
    "    axes.set_aspect(1)\n",
    "    xticks(arange(xmin, xmax+1, 1))\n",
    "    yticks(arange(ymin, ymax+1, 1))\n",
    "    grid(True)\n",
    "    plot([xmin, xmax], [0, 0], linestyle=\"-\", color=\"grey\")\n",
    "    plot([0, 0], [ymin, ymax], linestyle=\"-\", color=\"grey\")"
   ]
  },
  {
   "cell_type": "code",
   "execution_count": 12,
   "metadata": {
    "colab": {
     "base_uri": "https://localhost:8080/",
     "height": 704
    },
    "id": "V1_xphBGU2Ko",
    "outputId": "34ecbc2a-a6bc-43fc-f824-c29620561549"
   },
   "outputs": [
    {
     "data": {
      "image/png": "[encoded data removed]",
      "text/plain": [
       "<Figure size 1152x864 with 1 Axes>"
      ]
     },
     "metadata": {
      "needs_background": "light"
     },
     "output_type": "display_data"
    }
   ],
   "source": [
    "def draw_robot(x, y, theta):\n",
    "    #Coordonates of the nose\n",
    "    x0 = x - D/2*sin(theta)\n",
    "    y0 = y + D/2*cos(theta)\n",
    "    #Coordonates of the center of the right wheel\n",
    "    x1 = x + D/2*sin(theta)\n",
    "    y1 = y + D/2*cos(theta)\n",
    "\n",
    "    #line 1\n",
    "    X0 = x1 + R*cos(theta+pi/2)\n",
    "    Y0 = y1 + R*sin(theta)\n",
    "    \n",
    "    X1 = x - R*cos(theta)\n",
    "    Y1 = y + R*sin(theta)\n",
    "\n",
    "    #Coordonates of the center of the left wheel\n",
    "    x2 = x - D/2*sin(theta)\n",
    "    y2 = y - D/2*cos(theta)\n",
    "\n",
    "    #line 2\n",
    "    X2 = x + R*cos(theta)-D*cos(np.pi/2-theta)\n",
    "    Y2 = y + R*sin(theta)+D*sin(np.pi/2-theta)\n",
    "    \n",
    "    X3 = x - R*cos(theta)-D*cos(np.pi/2-theta)\n",
    "    Y3 = y - R*sin(theta)+D*sin(np.pi/2-theta)\n",
    "\n",
    "    #Draw the robot\n",
    "    robot = Circle(( x , y ), D/2 )\n",
    "    gca().add_patch(robot)\n",
    "    xArray = linspace(x + cos(theta-pi/2)*D/2 + R*cos(theta), x + cos(theta-pi/2)*D/2 - R*cos(theta), 100)\n",
    "    yArray = linspace(y + sin(theta-pi/2)*D/2 + R*sin(theta), y + sin(theta-pi/2)*D/2 - R*sin(theta), 100)\n",
    "\n",
    "    plot(xArray, yArray, 'r-')\n",
    "\n",
    "    xArray = linspace(x - cos(theta-pi/2)*D/2 + R*cos(theta), x - cos(theta-pi/2)*D/2 - R*cos(theta), 100)\n",
    "    yArray = linspace(y - sin(theta-pi/2)*D/2 + R*sin(theta), y - sin(theta-pi/2)*D/2 - R*sin(theta), 100)\n",
    "\n",
    "    plot(xArray, yArray, 'r-')\n",
    "    plot([x + D/2 * cos(theta)], [y + D/2 * sin(theta)], 'o', color = 'orange') # Nose\n",
    "    \n",
    "draw_arena()\n",
    "draw_robot(0,0,0)\n",
    "draw_robot(2, 2, np.pi/2)\n",
    "draw_robot(0, 4, np.pi)\n",
    "draw_robot(-4, 4, -np.pi)\n",
    "draw_robot(-8, 4, -np.pi)"
   ]
  },
  {
   "cell_type": "markdown",
   "metadata": {
    "id": "hTZffvx6U2Ks"
   },
   "source": [
    "### Kinematic Modeling\n",
    "\n",
    "We assume that we can control the wheels angular velocities $\\omega_l = \\dot{\\phi}_l$ and $\\omega_r = \\dot{\\phi}_r$ (this is a *kinematic* model of the robot).\n",
    "We also assume that the chariot wheels roll without slipping. \n",
    "\n",
    "🧩 Establish the differential equations that relate $\\dot{x}$,\n",
    "$\\dot{y}$ and $\\dot{\\theta}$ with $\\omega_l$ and $\\omega_r$."
   ]
  },
  {
   "cell_type": "markdown",
   "metadata": {
    "id": "zkLj37oEU2Ku"
   },
   "source": [
    "**Answer:**"
   ]
  },
  {
   "cell_type": "markdown",
   "metadata": {
    "id": "rFlKzc2jU2Kv"
   },
   "source": [
    "\n",
    "\n",
    "Premièrement, on écrit les vitesses des points de contact des roues pr rapport au sol:\n",
    "\n",
    "Vr =$ R\\omega_r + V + \\frac{D}{2}× \\dot{\\theta}$\n",
    "\n",
    "Vl =$ R\\omega_l + V - \\frac{D}{2}× \\dot{\\theta}$\n",
    "\n",
    "V: est la vitesse du centre de robot.\n",
    "$ R\\omega_z$ : la vitesse angulaire du robot autour de l axe Z.\n",
    "\n",
    "Puisque on néglige le glissement des roues, alors:\n",
    "Vd = 0   ;  Vg = 0\n",
    "Ainsi, on obtient deux équations :\n",
    "$ R\\omega_r + V + \\frac{R}{D}× \\dot{\\theta}  =  0$\n",
    "\n",
    "$ R\\omega_l + V - \\frac{R}{D}× \\dot{\\theta}  =  0$\n",
    "\n",
    "En sommant les deux équations, on trouve : \n",
    "\n",
    "V = $\\frac{-R}{2} (\\omega_r +  \\omega_l  $ )\n",
    "\n",
    "$\\dot{\\theta} =\\frac{R}{D}×(\\omega_l - \\omega_r ) $\n",
    "\n",
    "\n",
    "puisque : $\\dot{x}  = cos(\\theta)× V   $ et   $\\dot{y}  = sin(\\theta)× V $\n",
    "\n",
    "\n",
    "\n",
    "\n",
    "\n",
    "\n",
    "Donc\n",
    "\n",
    "$\\dot{\\theta} =\\frac{R}{D}×( \\omega_r  - \\omega_l  ) $\n",
    "\n",
    "$\\dot{x} =\\frac{R}{2}cos(\\theta)×(\\omega_r + \\omega_l)$\n",
    "\n",
    "$\\dot{y} =\\frac{R}{2}sin(\\theta)×(\\omega_r + \\omega_l)$\n"
   ]
  },
  {
   "cell_type": "raw",
   "metadata": {
    "id": "q8x3JY2zU2Kw"
   },
   "source": [
    "dx=(1/2)*r*(wr+wl)*cos(theta)\n",
    "dy=(1/2)*r*(wr+wl)*sin(theta)\n",
    "dtheta=(r/D)*(wr-wl)"
   ]
  },
  {
   "cell_type": "markdown",
   "metadata": {
    "id": "nI7tc_zyU2Kx"
   },
   "source": [
    "### Analysis\n",
    "\n",
    "🧩 Show that if $\\omega_l$ and $\\omega_r$ are continuously differentiable functions of $(x, y, \\theta)$ (which includes the case of constant inputs), this system is well-posed."
   ]
  },
  {
   "cell_type": "markdown",
   "metadata": {
    "id": "Dgxdc8mOU2Ky"
   },
   "source": [
    "**Answer:**"
   ]
  },
  {
   "cell_type": "code",
   "execution_count": null,
   "metadata": {
    "id": "BdTB3FD5U2Kz"
   },
   "outputs": [],
   "source": []
  },
  {
   "cell_type": "markdown",
   "metadata": {
    "id": "oW4lAEUeU2K0"
   },
   "source": [
    "🧩 Show that if $\\omega_l$ and $\\omega_r$ are constants, the maximal solution associated to any initial state is global. Is is still true of $\\omega_l$ and $\\omega_r$ are arbitrary continuously differentiable functions of $(x, y, \\theta)$ ?"
   ]
  },
  {
   "cell_type": "markdown",
   "metadata": {
    "id": "rUoG-_mGU2K0"
   },
   "source": [
    "**Answer:**"
   ]
  },
  {
   "cell_type": "markdown",
   "metadata": {
    "id": "paMIBmnwU2K1"
   },
   "source": [
    "### Vector Field\n",
    "\n",
    "In the sequel, `omega` is a function that computes the input vector $\\omega := (\\omega_l, \\omega_r)$ given the time $t$ and $(x, y, \\theta)$ (thus, it may depend on the time and/or on the system state if needed). For example:"
   ]
  },
  {
   "cell_type": "code",
   "execution_count": 7,
   "metadata": {
    "id": "1V5tSYYNU2K2"
   },
   "outputs": [],
   "source": [
    "def omega(t, xytheta):\n",
    "    omega_l = 7.5 * np.pi\n",
    "    omega_r = 12.5 * np.pi\n",
    "    return array([omega_l, omega_r])\n"
   ]
  },
  {
   "cell_type": "markdown",
   "metadata": {
    "id": "bntiDqoeU2K3"
   },
   "source": [
    "🧩 Implement a function `fun(t, xytheta)` that computes $(\\dot{x}, \\dot{y}, \\dot{\\theta})$ given the time $t$, $(x,y,\\theta)$ (and  -- implicitly -- the inputs $\\omega$ computed by the function `omega`)."
   ]
  },
  {
   "cell_type": "code",
   "execution_count": 8,
   "metadata": {
    "id": "pVJncdpqU2K4"
   },
   "outputs": [],
   "source": [
    "def fun(t, xytheta):\n",
    "    x,y,theta= xytheta\n",
    "    omega_r=omega(t, xytheta)[1]\n",
    "    omega_l=omega(t, xytheta)[0]\n",
    "    dtheta=(r/D)*(omega_r-omega_l)\n",
    "    dx= (1/2)*r*(omega_r+omega_l)*cos(theta)\n",
    "    dy=(1/2)*r*(omega_r+omega_l)*sin(theta)\n",
    "    return array([dx,dy,dtheta])"
   ]
  },
  {
   "cell_type": "markdown",
   "metadata": {
    "id": "jcPpam_nU2K5"
   },
   "source": [
    "### Simulation Setup\n",
    "\n",
    "🧩 Simulate the robot dynamics for 4 seconds when $(x_0, y_0, \\theta_0)(t=0) = (0.0, 0.0, 0.0)$,\n",
    "and the wheels velocities are the constants $\\omega_l = 7.5 \\pi$ and $\\omega_r = 12.5 \\pi$.\n",
    "(Compute the dense outputs.)\n",
    "   "
   ]
  },
  {
   "cell_type": "code",
   "execution_count": 20,
   "metadata": {
    "id": "r2Ew3akbU2K5",
    "outputId": "2492a71f-8463-4e71-f4d3-c0c6fb8080af"
   },
   "outputs": [
    {
     "name": "stdout",
     "output_type": "stream",
     "text": [
      "  message: 'The solver successfully reached the end of the integration interval.'\n",
      "     nfev: 2414\n",
      "     njev: 0\n",
      "      nlu: 0\n",
      "      sol: None\n",
      "   status: 0\n",
      "  success: True\n",
      "        t: array([0.0000e+00, 1.0000e-04, 1.1000e-03, 1.1100e-02, 2.1100e-02,\n",
      "       3.1100e-02, 4.1100e-02, 5.1100e-02, 6.1100e-02, 7.1100e-02,\n",
      "       8.1100e-02, 9.1100e-02, 1.0110e-01, 1.1110e-01, 1.2110e-01,\n",
      "       1.3110e-01, 1.4110e-01, 1.5110e-01, 1.6110e-01, 1.7110e-01,\n",
      "       1.8110e-01, 1.9110e-01, 2.0110e-01, 2.1110e-01, 2.2110e-01,\n",
      "       2.3110e-01, 2.4110e-01, 2.5110e-01, 2.6110e-01, 2.7110e-01,\n",
      "       2.8110e-01, 2.9110e-01, 3.0110e-01, 3.1110e-01, 3.2110e-01,\n",
      "       3.3110e-01, 3.4110e-01, 3.5110e-01, 3.6110e-01, 3.7110e-01,\n",
      "       3.8110e-01, 3.9110e-01, 4.0110e-01, 4.1110e-01, 4.2110e-01,\n",
      "       4.3110e-01, 4.4110e-01, 4.5110e-01, 4.6110e-01, 4.7110e-01,\n",
      "       4.8110e-01, 4.9110e-01, 5.0110e-01, 5.1110e-01, 5.2110e-01,\n",
      "       5.3110e-01, 5.4110e-01, 5.5110e-01, 5.6110e-01, 5.7110e-01,\n",
      "       5.8110e-01, 5.9110e-01, 6.0110e-01, 6.1110e-01, 6.2110e-01,\n",
      "       6.3110e-01, 6.4110e-01, 6.5110e-01, 6.6110e-01, 6.7110e-01,\n",
      "       6.8110e-01, 6.9110e-01, 7.0110e-01, 7.1110e-01, 7.2110e-01,\n",
      "       7.3110e-01, 7.4110e-01, 7.5110e-01, 7.6110e-01, 7.7110e-01,\n",
      "       7.8110e-01, 7.9110e-01, 8.0110e-01, 8.1110e-01, 8.2110e-01,\n",
      "       8.3110e-01, 8.4110e-01, 8.5110e-01, 8.6110e-01, 8.7110e-01,\n",
      "       8.8110e-01, 8.9110e-01, 9.0110e-01, 9.1110e-01, 9.2110e-01,\n",
      "       9.3110e-01, 9.4110e-01, 9.5110e-01, 9.6110e-01, 9.7110e-01,\n",
      "       9.8110e-01, 9.9110e-01, 1.0011e+00, 1.0111e+00, 1.0211e+00,\n",
      "       1.0311e+00, 1.0411e+00, 1.0511e+00, 1.0611e+00, 1.0711e+00,\n",
      "       1.0811e+00, 1.0911e+00, 1.1011e+00, 1.1111e+00, 1.1211e+00,\n",
      "       1.1311e+00, 1.1411e+00, 1.1511e+00, 1.1611e+00, 1.1711e+00,\n",
      "       1.1811e+00, 1.1911e+00, 1.2011e+00, 1.2111e+00, 1.2211e+00,\n",
      "       1.2311e+00, 1.2411e+00, 1.2511e+00, 1.2611e+00, 1.2711e+00,\n",
      "       1.2811e+00, 1.2911e+00, 1.3011e+00, 1.3111e+00, 1.3211e+00,\n",
      "       1.3311e+00, 1.3411e+00, 1.3511e+00, 1.3611e+00, 1.3711e+00,\n",
      "       1.3811e+00, 1.3911e+00, 1.4011e+00, 1.4111e+00, 1.4211e+00,\n",
      "       1.4311e+00, 1.4411e+00, 1.4511e+00, 1.4611e+00, 1.4711e+00,\n",
      "       1.4811e+00, 1.4911e+00, 1.5011e+00, 1.5111e+00, 1.5211e+00,\n",
      "       1.5311e+00, 1.5411e+00, 1.5511e+00, 1.5611e+00, 1.5711e+00,\n",
      "       1.5811e+00, 1.5911e+00, 1.6011e+00, 1.6111e+00, 1.6211e+00,\n",
      "       1.6311e+00, 1.6411e+00, 1.6511e+00, 1.6611e+00, 1.6711e+00,\n",
      "       1.6811e+00, 1.6911e+00, 1.7011e+00, 1.7111e+00, 1.7211e+00,\n",
      "       1.7311e+00, 1.7411e+00, 1.7511e+00, 1.7611e+00, 1.7711e+00,\n",
      "       1.7811e+00, 1.7911e+00, 1.8011e+00, 1.8111e+00, 1.8211e+00,\n",
      "       1.8311e+00, 1.8411e+00, 1.8511e+00, 1.8611e+00, 1.8711e+00,\n",
      "       1.8811e+00, 1.8911e+00, 1.9011e+00, 1.9111e+00, 1.9211e+00,\n",
      "       1.9311e+00, 1.9411e+00, 1.9511e+00, 1.9611e+00, 1.9711e+00,\n",
      "       1.9811e+00, 1.9911e+00, 2.0011e+00, 2.0111e+00, 2.0211e+00,\n",
      "       2.0311e+00, 2.0411e+00, 2.0511e+00, 2.0611e+00, 2.0711e+00,\n",
      "       2.0811e+00, 2.0911e+00, 2.1011e+00, 2.1111e+00, 2.1211e+00,\n",
      "       2.1311e+00, 2.1411e+00, 2.1511e+00, 2.1611e+00, 2.1711e+00,\n",
      "       2.1811e+00, 2.1911e+00, 2.2011e+00, 2.2111e+00, 2.2211e+00,\n",
      "       2.2311e+00, 2.2411e+00, 2.2511e+00, 2.2611e+00, 2.2711e+00,\n",
      "       2.2811e+00, 2.2911e+00, 2.3011e+00, 2.3111e+00, 2.3211e+00,\n",
      "       2.3311e+00, 2.3411e+00, 2.3511e+00, 2.3611e+00, 2.3711e+00,\n",
      "       2.3811e+00, 2.3911e+00, 2.4011e+00, 2.4111e+00, 2.4211e+00,\n",
      "       2.4311e+00, 2.4411e+00, 2.4511e+00, 2.4611e+00, 2.4711e+00,\n",
      "       2.4811e+00, 2.4911e+00, 2.5011e+00, 2.5111e+00, 2.5211e+00,\n",
      "       2.5311e+00, 2.5411e+00, 2.5511e+00, 2.5611e+00, 2.5711e+00,\n",
      "       2.5811e+00, 2.5911e+00, 2.6011e+00, 2.6111e+00, 2.6211e+00,\n",
      "       2.6311e+00, 2.6411e+00, 2.6511e+00, 2.6611e+00, 2.6711e+00,\n",
      "       2.6811e+00, 2.6911e+00, 2.7011e+00, 2.7111e+00, 2.7211e+00,\n",
      "       2.7311e+00, 2.7411e+00, 2.7511e+00, 2.7611e+00, 2.7711e+00,\n",
      "       2.7811e+00, 2.7911e+00, 2.8011e+00, 2.8111e+00, 2.8211e+00,\n",
      "       2.8311e+00, 2.8411e+00, 2.8511e+00, 2.8611e+00, 2.8711e+00,\n",
      "       2.8811e+00, 2.8911e+00, 2.9011e+00, 2.9111e+00, 2.9211e+00,\n",
      "       2.9311e+00, 2.9411e+00, 2.9511e+00, 2.9611e+00, 2.9711e+00,\n",
      "       2.9811e+00, 2.9911e+00, 3.0011e+00, 3.0111e+00, 3.0211e+00,\n",
      "       3.0311e+00, 3.0411e+00, 3.0511e+00, 3.0611e+00, 3.0711e+00,\n",
      "       3.0811e+00, 3.0911e+00, 3.1011e+00, 3.1111e+00, 3.1211e+00,\n",
      "       3.1311e+00, 3.1411e+00, 3.1511e+00, 3.1611e+00, 3.1711e+00,\n",
      "       3.1811e+00, 3.1911e+00, 3.2011e+00, 3.2111e+00, 3.2211e+00,\n",
      "       3.2311e+00, 3.2411e+00, 3.2511e+00, 3.2611e+00, 3.2711e+00,\n",
      "       3.2811e+00, 3.2911e+00, 3.3011e+00, 3.3111e+00, 3.3211e+00,\n",
      "       3.3311e+00, 3.3411e+00, 3.3511e+00, 3.3611e+00, 3.3711e+00,\n",
      "       3.3811e+00, 3.3911e+00, 3.4011e+00, 3.4111e+00, 3.4211e+00,\n",
      "       3.4311e+00, 3.4411e+00, 3.4511e+00, 3.4611e+00, 3.4711e+00,\n",
      "       3.4811e+00, 3.4911e+00, 3.5011e+00, 3.5111e+00, 3.5211e+00,\n",
      "       3.5311e+00, 3.5411e+00, 3.5511e+00, 3.5611e+00, 3.5711e+00,\n",
      "       3.5811e+00, 3.5911e+00, 3.6011e+00, 3.6111e+00, 3.6211e+00,\n",
      "       3.6311e+00, 3.6411e+00, 3.6511e+00, 3.6611e+00, 3.6711e+00,\n",
      "       3.6811e+00, 3.6911e+00, 3.7011e+00, 3.7111e+00, 3.7211e+00,\n",
      "       3.7311e+00, 3.7411e+00, 3.7511e+00, 3.7611e+00, 3.7711e+00,\n",
      "       3.7811e+00, 3.7911e+00, 3.8011e+00, 3.8111e+00, 3.8211e+00,\n",
      "       3.8311e+00, 3.8411e+00, 3.8511e+00, 3.8611e+00, 3.8711e+00,\n",
      "       3.8811e+00, 3.8911e+00, 3.9011e+00, 3.9111e+00, 3.9211e+00,\n",
      "       3.9311e+00, 3.9411e+00, 3.9511e+00, 3.9611e+00, 3.9711e+00,\n",
      "       3.9811e+00, 3.9911e+00, 4.0000e+00])\n",
      " t_events: None\n",
      "        y: array([[ 0.00000000e+00,  3.14159264e-04,  3.45575020e-03, ...,\n",
      "        -5.93673794e-02, -2.79592639e-02, -3.37230244e-14],\n",
      "       [ 0.00000000e+00,  2.46740110e-08,  2.98555459e-06, ...,\n",
      "         8.81315613e-04,  1.95439658e-04,  6.14286725e-14],\n",
      "       [ 0.00000000e+00,  1.57079633e-04,  1.72787596e-03, ...,\n",
      "         6.25349726e+00,  6.26920522e+00,  6.28318531e+00]])\n",
      " y_events: None\n"
     ]
    },
    {
     "name": "stderr",
     "output_type": "stream",
     "text": [
      "C:\\Users\\lenovo\\anaconda3\\lib\\site-packages\\scipy\\integrate\\_ivp\\common.py:39: UserWarning: The following arguments have no effect for a chosen solver: `t_val`.\n",
      "  warn(\"The following arguments have no effect for a chosen solver: {}.\"\n"
     ]
    }
   ],
   "source": [
    "from scipy.integrate import solve_ivp\n",
    "D=1\n",
    "r=0.1\n",
    "x0= 0\n",
    "y0= 0\n",
    "theta0= 0\n",
    "omega_r0=12.5 * np.pi\n",
    "omega_l0=7.5 * np.pi\n",
    "omega0=[omega_l0, omega_r0 ]\n",
    "\n",
    "\n",
    "X0 = [x0, y0, theta0]\n",
    "tf=4\n",
    "\n",
    "result = solve_ivp(fun, [0.0, tf], X0,max_step=0.2, dense_output=True)\n",
    "print(result)"
   ]
  },
  {
   "cell_type": "markdown",
   "metadata": {
    "id": "EPTkOcDfU2K7"
   },
   "source": [
    "🧩 Use the simulation results to draw the graphs of $x(t)$, $y(t)$ and $\\theta(t)$."
   ]
  },
  {
   "cell_type": "code",
   "execution_count": 10,
   "metadata": {
    "id": "gQP7HaKyU2K7",
    "outputId": "08f3253a-5242-4308-e10d-57fbc96ef553"
   },
   "outputs": [
    {
     "name": "stderr",
     "output_type": "stream",
     "text": [
      "C:\\Users\\lenovo\\AppData\\Local\\Temp/ipykernel_3816/2330327642.py:1: UserWarning: color is redundantly defined by the 'color' keyword argument and the fmt string \"k\" (-> color=(0.0, 0.0, 0.0, 1)). The keyword argument will take precedence.\n",
      "  plot(result[\"t\"], result[\"y\"][0], \"k\",color='green',label=r'$x(t)$')\n",
      "C:\\Users\\lenovo\\AppData\\Local\\Temp/ipykernel_3816/2330327642.py:2: UserWarning: color is redundantly defined by the 'color' keyword argument and the fmt string \"k\" (-> color=(0.0, 0.0, 0.0, 1)). The keyword argument will take precedence.\n",
      "  plot(result[\"t\"], result[\"y\"][1], \"k\",color='red',label=r'$y(t)$')\n",
      "C:\\Users\\lenovo\\AppData\\Local\\Temp/ipykernel_3816/2330327642.py:3: UserWarning: color is redundantly defined by the 'color' keyword argument and the fmt string \"k\" (-> color=(0.0, 0.0, 0.0, 1)). The keyword argument will take precedence.\n",
      "  plot(result[\"t\"], result[\"y\"][2], \"k\",color='yellow',label=r'$theta(t)$')\n"
     ]
    },
    {
     "data": {
      "text/plain": [
       "<matplotlib.legend.Legend at 0x24512f00610>"
      ]
     },
     "execution_count": 10,
     "metadata": {},
     "output_type": "execute_result"
    },
    {
     "data": {
      "image/png": "[encoded data removed]",
      "text/plain": [
       "<Figure size 432x288 with 1 Axes>"
      ]
     },
     "metadata": {
      "needs_background": "light"
     },
     "output_type": "display_data"
    }
   ],
   "source": [
    "plot(result[\"t\"], result[\"y\"][0], \"k\",color='green',label=r'$x(t)$')\n",
    "plot(result[\"t\"], result[\"y\"][1], \"k\",color='red',label=r'$y(t)$')\n",
    "plot(result[\"t\"], result[\"y\"][2], \"k\",color='yellow',label=r'$theta(t)$')\n",
    "grid(True); xlabel(\"$t$\"); title(\"$x(t), y(t), theta(t)$\")\n",
    "legend()"
   ]
  },
  {
   "cell_type": "markdown",
   "metadata": {
    "id": "5T1YxrlPU2K8"
   },
   "source": [
    "🧩 Use the simulation results to display the robot location every 0.5 second."
   ]
  },
  {
   "cell_type": "code",
   "execution_count": 21,
   "metadata": {},
   "outputs": [
    {
     "data": {
      "image/png": "[encoded data removed]",
      "text/plain": [
       "<Figure size 1152x864 with 1 Axes>"
      ]
     },
     "metadata": {
      "needs_background": "light"
     },
     "output_type": "display_data"
    }
   ],
   "source": [
    "draw_arena()\n",
    "for i in range (len(result[\"y\"][0])):\n",
    "    draw_robot(result[\"y\"][0][i],result[\"y\"][1][i],result[\"y\"][2][i])"
   ]
  },
  {
   "cell_type": "markdown",
   "metadata": {
    "id": "TzyeBS7IU2K9"
   },
   "source": [
    "🧩 What should be the analytical expression of $x(t)$, $y(t)$ and $\\theta(t)$? "
   ]
  },
  {
   "cell_type": "markdown",
   "metadata": {
    "id": "7hqk1ZvvU2K9"
   },
   "source": [
    "**Answer:**"
   ]
  },
  {
   "cell_type": "raw",
   "metadata": {
    "id": "rWrs6dqcU2K-"
   },
   "source": [
    "omega_r0 = 12.5 * np.pi\n",
    "omega_l0 = 7.5 * np.pi\n",
    "x = 0.5*(omega_l0+omega_r0)*sin(theta)\n",
    "y = -0.5*(omega_l0+omega_r0)*cos(theta)\n",
    "theta = r*(omega_r0-omega_l0)*t\n"
   ]
  },
  {
   "cell_type": "markdown",
   "metadata": {
    "id": "NYpAtMisU2K-"
   },
   "source": [
    "🧩 Do your experimental results match the theoretical results ? Draw the curves of the simulation error at time $t$ for $x$, $y$ and $\\theta$."
   ]
  },
  {
   "cell_type": "code",
   "execution_count": null,
   "metadata": {
    "id": "5xe6PYvDU2K_",
    "outputId": "5f5604d3-df08-4d8b-81e1-516ccb6843f1"
   },
   "outputs": [
    {
     "ename": "AttributeError",
     "evalue": "module 'matplotlib' has no attribute 'errorbar'",
     "output_type": "error",
     "traceback": [
      "\u001b[1;31m---------------------------------------------------------------------------\u001b[0m",
      "\u001b[1;31mAttributeError\u001b[0m                            Traceback (most recent call last)",
      "\u001b[1;32m~\\AppData\\Local\\Temp/ipykernel_6056/4200394784.py\u001b[0m in \u001b[0;36m<module>\u001b[1;34m\u001b[0m\n\u001b[0;32m      1\u001b[0m \u001b[1;32mimport\u001b[0m \u001b[0mmatplotlib\u001b[0m \u001b[1;32mas\u001b[0m \u001b[0mplt\u001b[0m\u001b[1;33m\u001b[0m\u001b[1;33m\u001b[0m\u001b[0m\n\u001b[0;32m      2\u001b[0m \u001b[0myerr\u001b[0m \u001b[1;33m=\u001b[0m \u001b[0mabs\u001b[0m\u001b[1;33m(\u001b[0m\u001b[0mx\u001b[0m \u001b[1;33m-\u001b[0m  \u001b[0mnp\u001b[0m\u001b[1;33m.\u001b[0m\u001b[0mcos\u001b[0m\u001b[1;33m(\u001b[0m\u001b[1;36m2\u001b[0m\u001b[1;33m*\u001b[0m\u001b[0mresult\u001b[0m\u001b[1;33m[\u001b[0m\u001b[1;34m\"y\"\u001b[0m\u001b[1;33m]\u001b[0m\u001b[1;33m[\u001b[0m\u001b[1;36m0\u001b[0m\u001b[1;33m]\u001b[0m\u001b[1;33m)\u001b[0m\u001b[1;33m**\u001b[0m\u001b[1;36m2\u001b[0m\u001b[1;33m)\u001b[0m \u001b[1;31m#calcuating the y-error\u001b[0m\u001b[1;33m\u001b[0m\u001b[1;33m\u001b[0m\u001b[0m\n\u001b[1;32m----> 3\u001b[1;33m \u001b[0mplt\u001b[0m\u001b[1;33m.\u001b[0m\u001b[0merrorbar\u001b[0m\u001b[1;33m(\u001b[0m\u001b[0mresult\u001b[0m\u001b[1;33m[\u001b[0m\u001b[1;34m\"y\"\u001b[0m\u001b[1;33m]\u001b[0m\u001b[1;33m[\u001b[0m\u001b[1;36m0\u001b[0m\u001b[1;33m]\u001b[0m\u001b[1;33m,\u001b[0m \u001b[0mx\u001b[0m\u001b[1;33m,\u001b[0m\u001b[0myerr\u001b[0m\u001b[1;33m=\u001b[0m\u001b[0myerr\u001b[0m\u001b[1;33m,\u001b[0m \u001b[0mmarker\u001b[0m\u001b[1;33m=\u001b[0m\u001b[1;34m'o'\u001b[0m\u001b[1;33m,\u001b[0m \u001b[0mls\u001b[0m \u001b[1;33m=\u001b[0m\u001b[1;34m'none'\u001b[0m\u001b[1;33m,\u001b[0m \u001b[0mlabel\u001b[0m\u001b[1;33m=\u001b[0m\u001b[1;34m'Simulation Result'\u001b[0m\u001b[1;33m)\u001b[0m\u001b[1;33m\u001b[0m\u001b[1;33m\u001b[0m\u001b[0m\n\u001b[0m\u001b[0;32m      4\u001b[0m \u001b[0mplt\u001b[0m\u001b[1;33m.\u001b[0m\u001b[0mplot\u001b[0m\u001b[1;33m(\u001b[0m\u001b[0mtime\u001b[0m\u001b[1;33m,\u001b[0m \u001b[0my\u001b[0m\u001b[1;33m,\u001b[0m \u001b[0mcolor\u001b[0m\u001b[1;33m=\u001b[0m\u001b[1;34m'red'\u001b[0m\u001b[1;33m,\u001b[0m \u001b[0mlabel\u001b[0m\u001b[1;33m=\u001b[0m\u001b[1;34m'Exact Curve'\u001b[0m\u001b[1;33m)\u001b[0m\u001b[1;33m\u001b[0m\u001b[1;33m\u001b[0m\u001b[0m\n\u001b[0;32m      5\u001b[0m \u001b[0mplt\u001b[0m\u001b[1;33m.\u001b[0m\u001b[0mxlim\u001b[0m\u001b[1;33m(\u001b[0m\u001b[1;36m0\u001b[0m\u001b[1;33m,\u001b[0m \u001b[1;36m10\u001b[0m\u001b[1;33m)\u001b[0m\u001b[1;33m\u001b[0m\u001b[1;33m\u001b[0m\u001b[0m\n",
      "\u001b[1;31mAttributeError\u001b[0m: module 'matplotlib' has no attribute 'errorbar'"
     ]
    }
   ],
   "source": [
    "import matplotlib as plt\n",
    "yerr = abs(x -  np.cos(2*result[\"y\"][0])**2) #calcuating the y-error\n",
    "plt.errorbar(result[\"y\"][0], x,yerr=yerr, marker='o', ls ='none', label='Simulation Result') \n",
    "plt.plot(time, y, color='red', label='Exact Curve')\n",
    "plt.xlim(0, 10)\n",
    "plt.xlabel('Time')\n",
    "plt.ylabel('Probability Density')\n",
    "plt.title('Noisy Simulation: Time Dependent Probability Density')\n",
    "plt.legend()\n",
    "plt.show()"
   ]
  },
  {
   "cell_type": "markdown",
   "metadata": {
    "id": "-a_SASZCU2LA"
   },
   "source": [
    "🧩 If needed, adjust the simulation parameters until this error is uniformly less than $1e-5$ for each variable."
   ]
  },
  {
   "cell_type": "code",
   "execution_count": null,
   "metadata": {
    "id": "8FdT9JXlU2LA"
   },
   "outputs": [],
   "source": [
    "pass"
   ]
  }
 ],
 "metadata": {
  "colab": {
   "collapsed_sections": [],
   "name": "Project - Step 1.ipynb",
   "provenance": []
  },
  "kernelspec": {
   "display_name": "Python 3 (ipykernel)",
   "language": "python",
   "name": "python3"
  },
  "language_info": {
   "codemirror_mode": {
    "name": "ipython",
    "version": 3
   },
   "file_extension": ".py",
   "mimetype": "text/x-python",
   "name": "python",
   "nbconvert_exporter": "python",
   "pygments_lexer": "ipython3",
   "version": "3.9.7"
  }
 },
 "nbformat": 4,
 "nbformat_minor": 1
}

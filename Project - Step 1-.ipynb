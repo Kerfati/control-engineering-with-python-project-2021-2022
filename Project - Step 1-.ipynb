{
 "cells": [
  {
   "cell_type": "code",
   "execution_count": 12,
   "metadata": {},
   "outputs": [],
   "source": [
    "import numpy as np\n",
    "from numpy import *\n",
    "from numpy.linalg import *\n",
    "\n",
    "from scipy.integrate import *\n",
    "from scipy.signal import *\n",
    "\n",
    "from matplotlib.pyplot import *"
   ]
  },
  {
   "cell_type": "markdown",
   "metadata": {},
   "source": [
    "Chariot Model\n",
    "==============\n",
    "\n",
    "We consider a mobile robot of \"chariot\" type, evolving in the plane.\n",
    "\n",
    "  - From above, its frame appears to be a disk of diameter $D$. \n",
    "  \n",
    "  - It has two fixed wheels (their orientation with respect to the frame does not change; there is no need for a steering wheel!). They are parallel and located at opposite ends of the frame (hence separated by a distance of $D$) ; these wheels have the common radius $R$.\n",
    "\n",
    "  - The robot is symmetric with respect to the axis that joins the two wheels. For convenience, a green sticker is attached at the boundary of the frame on one side of this axis, on the robot axis of symmetry ; this side will is called the \"front\" of the robot, the point itself is called the \"nose\" of the robot. When we talk about the \"left wheel\" or the \"right wheel\", we assume that we are looking towards the front of the robot.\n",
    "\n",
    "We will denote \n",
    "\n",
    "  - $(x, y)$ the coordinates of the wheel axis in the orthonormal and direct frame $(0, e_x, e_y)$ of the plane.\n",
    "  \n",
    "  - $\\theta$ the angle of the wheels direction with respect to vector $e_x$ ; with $\\theta = 0$ when the front of the robot faces the right ($e_x$) and $\\theta = \\pi/2$ when he faces upwards ($e_y$).\n",
    "\n",
    "  - $\\phi_l$ and $\\phi_r$ the rotation angles of the left and right wheel respectively ; by convention, when these angles increase, the robot moves forward."
   ]
  },
  {
   "cell_type": "markdown",
   "metadata": {},
   "source": [
    "### Parameter Definition\n",
    "\n",
    "\n",
    "From now on, we assume that the frame diameter is $D = 1 \\mbox{ m}$ and the wheel radius is $R = 10 \\mbox{ cm}$.\n",
    "\n",
    "🧩 Define the corresponding Python variables `D` and `R` (express every length in meters, and more generally in the sequel, always use the [international standard of units](https://en.wikipedia.org/wiki/SI_derived_unit)) for numerical values. "
   ]
  },
  {
   "cell_type": "code",
   "execution_count": 44,
   "metadata": {},
   "outputs": [],
   "source": [
    "D=1\n",
    "r=0.1"
   ]
  },
  {
   "cell_type": "markdown",
   "metadata": {},
   "source": [
    "### Graphical Representation\n",
    "\n",
    "🧩 Implement a function `draw_robot` with arguments `x`, `y` and `theta` that draws the robot in the plane (top view) for arbitrary values of $(x, y)$ and $\\theta$. Represent the robot frame as a circle, the wheels as lines and the nose as an orange point.\n",
    "\n",
    "🗝️ **Hint.** Use the function `plot` of `matplotlib.pyplot`."
   ]
  },
  {
   "cell_type": "code",
   "execution_count": 2,
   "metadata": {},
   "outputs": [],
   "source": [
    "def draw_robot(x, y, theta):\n",
    "    pass"
   ]
  },
  {
   "cell_type": "markdown",
   "metadata": {},
   "source": [
    "🧩 Represent the robot in when $(x, y, \\theta) = (0, 0, 0), (2, 2, \\pi/2), (0, 4, -\\pi), (-4, 4, -\\pi), (-8, 4, -\\pi)$.\n",
    "\n",
    "🗝️ **Hint.** Use the following `draw_arena` function beforehand."
   ]
  },
  {
   "cell_type": "code",
   "execution_count": 3,
   "metadata": {},
   "outputs": [],
   "source": [
    "def draw_arena(xmin=-12, xmax=12, ymin=-9, ymax=9):\n",
    "    wh_ratio = (xmax - xmin) / (ymax - ymin)\n",
    "    figsize = fig_width, fig_height = 16, 16 / wh_ratio\n",
    "    figure(figsize=figsize)\n",
    "    axes = gca()\n",
    "    axes.axis([xmin, xmax, ymin, ymax])\n",
    "    axes.set_aspect(1)\n",
    "    xticks(arange(xmin, xmax+1, 1))\n",
    "    yticks(arange(ymin, ymax+1, 1))\n",
    "    grid(True)\n",
    "    plot([xmin, xmax], [0, 0], linestyle=\"-\", color=\"grey\")\n",
    "    plot([0, 0], [ymin, ymax], linestyle=\"-\", color=\"grey\")"
   ]
  },
  {
   "cell_type": "markdown",
   "metadata": {},
   "source": [
    "### Kinematic Modeling\n",
    "\n",
    "We assume that we can control the wheels angular velocities $\\omega_l = \\dot{\\phi}_l$ and $\\omega_r = \\dot{\\phi}_r$ (this is a *kinematic* model of the robot).\n",
    "We also assume that the chariot wheels roll without slipping. \n",
    "\n",
    "🧩 Establish the differential equations that relate $\\dot{x}$,\n",
    "$\\dot{y}$ and $\\dot{\\theta}$ with $\\omega_l$ and $\\omega_r$."
   ]
  },
  {
   "cell_type": "markdown",
   "metadata": {},
   "source": [
    "**Answer:**"
   ]
  },
  {
   "cell_type": "markdown",
   "metadata": {},
   "source": [
    "\n",
    "\n",
    "Premièrement, on écrit les vitesses des points de contact des roues pr rapport au sol:\n",
    "\n",
    "Vr =$ R\\omega_r + V + \\frac{D}{2}× \\dot{\\theta}$\n",
    "\n",
    "Vl =$ R\\omega_l + V - \\frac{D}{2}× \\dot{\\theta}$\n",
    "\n",
    "V: est la vitesse du centre de robot.\n",
    "$ R\\omega_z$ : la vitesse angulaire du robot autour de l axe Z.\n",
    "\n",
    "Puisque on néglige le glissement des roues, alors:\n",
    "Vd = 0   ;  Vg = 0\n",
    "Ainsi, on obtient deux équations :\n",
    "$ R\\omega_r + V + \\frac{R}{D}× \\dot{\\theta}  =  0$\n",
    "\n",
    "$ R\\omega_l + V - \\frac{R}{D}× \\dot{\\theta}  =  0$\n",
    "\n",
    "En sommant les deux équations, on trouve : \n",
    "\n",
    "V = $\\frac{-R}{2} (\\omega_r +  \\omega_l  $ )\n",
    "\n",
    "$\\dot{\\theta} =\\frac{R}{D}×(\\omega_l - \\omega_r ) $\n",
    "\n",
    "\n",
    "puisque : $\\dot{x}  = cos(\\theta)× V   $ et   $\\dot{y}  = sin(\\theta)× V $\n",
    "\n",
    "\n",
    "\n",
    "\n",
    "\n",
    "\n",
    "Donc\n",
    "\n",
    "$\\dot{\\theta} =\\frac{R}{D}×( \\omega_r  - \\omega_l  ) $\n",
    "\n",
    "$\\dot{x} =\\frac{R}{2}cos(\\theta)×(\\omega_r + \\omega_l)$\n",
    "\n",
    "$\\dot{y} =\\frac{R}{2}sin(\\theta)×(\\omega_r + \\omega_l)$\n"
   ]
  },
  {
   "cell_type": "raw",
   "metadata": {},
   "source": [
    "dx=(1/2)*r*(wr+wl)*cos(theta)\n",
    "dy=(1/2)*r*(wr+wl)*sin(theta)\n",
    "dtheta=(r/D)*(wr-wl)"
   ]
  },
  {
   "cell_type": "markdown",
   "metadata": {},
   "source": [
    "### Analysis\n",
    "\n",
    "🧩 Show that if $\\omega_l$ and $\\omega_r$ are continuously differentiable functions of $(x, y, \\theta)$ (which includes the case of constant inputs), this system is well-posed."
   ]
  },
  {
   "cell_type": "markdown",
   "metadata": {},
   "source": [
    "**Answer:**"
   ]
  },
  {
   "cell_type": "code",
   "execution_count": null,
   "metadata": {},
   "outputs": [],
   "source": []
  },
  {
   "cell_type": "markdown",
   "metadata": {},
   "source": [
    "🧩 Show that if $\\omega_l$ and $\\omega_r$ are constants, the maximal solution associated to any initial state is global. Is is still true of $\\omega_l$ and $\\omega_r$ are arbitrary continuously differentiable functions of $(x, y, \\theta)$ ?"
   ]
  },
  {
   "cell_type": "markdown",
   "metadata": {},
   "source": [
    "**Answer:**"
   ]
  },
  {
   "cell_type": "markdown",
   "metadata": {},
   "source": [
    "### Vector Field\n",
    "\n",
    "In the sequel, `omega` is a function that computes the input vector $\\omega := (\\omega_l, \\omega_r)$ given the time $t$ and $(x, y, \\theta)$ (thus, it may depend on the time and/or on the system state if needed). For example:"
   ]
  },
  {
   "cell_type": "code",
   "execution_count": 13,
   "metadata": {},
   "outputs": [],
   "source": [
    "def omega(t, xytheta):\n",
    "    omega_l = 7.5 * np.pi\n",
    "    omega_r = 12.5 * np.pi\n",
    "    return array([omega_l, omega_r])\n"
   ]
  },
  {
   "cell_type": "markdown",
   "metadata": {},
   "source": [
    "🧩 Implement a function `fun(t, xytheta)` that computes $(\\dot{x}, \\dot{y}, \\dot{\\theta})$ given the time $t$, $(x,y,\\theta)$ (and  -- implicitly -- the inputs $\\omega$ computed by the function `omega`)."
   ]
  },
  {
   "cell_type": "code",
   "execution_count": 18,
   "metadata": {},
   "outputs": [],
   "source": [
    "def fun(t, xytheta):\n",
    "    x,y,theta= xytheta\n",
    "    omega_r=omega(t, xytheta)[1]\n",
    "    omega_l=omega(t, xytheta)[0]\n",
    "    dtheta=(r/D)*(omega_r-omega_l)\n",
    "    dx= (1/2)*r*(omega_r+omega_l)*cos(theta)\n",
    "    dy=(1/2)*r*(omega_r+omega_l)*sin(theta)\n",
    "    return array([dx,dy,dtheta])"
   ]
  },
  {
   "cell_type": "markdown",
   "metadata": {},
   "source": [
    "### Simulation Setup\n",
    "\n",
    "🧩 Simulate the robot dynamics for 4 seconds when $(x_0, y_0, \\theta_0)(t=0) = (0.0, 0.0, 0.0)$,\n",
    "and the wheels velocities are the constants $\\omega_l = 7.5 \\pi$ and $\\omega_r = 12.5 \\pi$.\n",
    "(Compute the dense outputs.)\n",
    "   "
   ]
  },
  {
   "cell_type": "code",
   "execution_count": 42,
   "metadata": {},
   "outputs": [
    {
     "name": "stdout",
     "output_type": "stream",
     "text": [
      "  message: 'The solver successfully reached the end of the integration interval.'\n",
      "     nfev: 146\n",
      "     njev: 0\n",
      "      nlu: 0\n",
      "      sol: <scipy.integrate._ivp.common.OdeSolution object at 0x000001C3535E3850>\n",
      "   status: 0\n",
      "  success: True\n",
      "        t: array([0.0000e+00, 1.0000e-04, 1.1000e-03, 1.1100e-02, 1.1110e-01,\n",
      "       3.1110e-01, 5.1110e-01, 7.1110e-01, 9.1110e-01, 1.1111e+00,\n",
      "       1.3111e+00, 1.5111e+00, 1.7111e+00, 1.9111e+00, 2.1111e+00,\n",
      "       2.3111e+00, 2.5111e+00, 2.7111e+00, 2.9111e+00, 3.1111e+00,\n",
      "       3.3111e+00, 3.5111e+00, 3.7111e+00, 3.9111e+00, 4.0000e+00])\n",
      " t_events: None\n",
      "        y: array([[ 0.00000000e+00,  3.14159264e-04,  3.45575020e-03,\n",
      "         3.48699116e-02,  3.47261979e-01,  9.38912305e-01,\n",
      "         1.43865535e+00,  1.79757279e+00,  1.98053129e+00,\n",
      "         1.96962158e+00,  1.76591159e+00,  1.38934187e+00,\n",
      "         8.76773685e-01,  2.78380788e-01, -3.47261960e-01,\n",
      "        -9.38912286e-01, -1.43865533e+00, -1.79757277e+00,\n",
      "        -1.98053127e+00, -1.96962156e+00, -1.76591157e+00,\n",
      "        -1.38934185e+00, -8.76773665e-01, -2.78380768e-01,\n",
      "         4.70213202e-10],\n",
      "       [ 0.00000000e+00,  2.46740110e-08,  2.98555459e-06,\n",
      "         3.04000788e-04,  3.03784328e-02,  2.34088424e-01,\n",
      "         6.10658144e-01,  1.12322632e+00,  1.72161922e+00,\n",
      "         2.34726197e+00,  2.93891230e+00,  3.43865534e+00,\n",
      "         3.79757278e+00,  3.98053128e+00,  3.96962157e+00,\n",
      "         3.76591158e+00,  3.38934186e+00,  2.87677368e+00,\n",
      "         2.27838078e+00,  1.65273803e+00,  1.06108770e+00,\n",
      "         5.61344655e-01,  2.02427215e-01,  1.94687238e-02,\n",
      "         2.90722438e-09],\n",
      "       [ 0.00000000e+00,  1.57079633e-04,  1.72787596e-03,\n",
      "         1.74358392e-02,  1.74515472e-01,  4.88674737e-01,\n",
      "         8.02834003e-01,  1.11699327e+00,  1.43115253e+00,\n",
      "         1.74531180e+00,  2.05947106e+00,  2.37363033e+00,\n",
      "         2.68778959e+00,  3.00194886e+00,  3.31610813e+00,\n",
      "         3.63026739e+00,  3.94442666e+00,  4.25858592e+00,\n",
      "         4.57274519e+00,  4.88690445e+00,  5.20106372e+00,\n",
      "         5.51522298e+00,  5.82938225e+00,  6.14354151e+00,\n",
      "         6.28318531e+00]])\n",
      " y_events: None\n"
     ]
    }
   ],
   "source": [
    "from scipy.integrate import solve_ivp\n",
    "D=1\n",
    "r=0.1\n",
    "x0= 0\n",
    "y0= 0\n",
    "theta0= 0\n",
    "omega_r0=12.5 * np.pi\n",
    "omega_l0=7.5 * np.pi\n",
    "omega0=[omega_l0, omega_r0 ]\n",
    "\n",
    "\n",
    "X0 = [x0, y0, theta0]\n",
    "tf=4\n",
    "\n",
    "result = solve_ivp(fun, [0.0, tf], X0,max_step=0.2, dense_output=True)\n",
    "print(result)"
   ]
  },
  {
   "cell_type": "markdown",
   "metadata": {},
   "source": [
    "🧩 Use the simulation results to draw the graphs of $x(t)$, $y(t)$ and $\\theta(t)$."
   ]
  },
  {
   "cell_type": "code",
   "execution_count": 43,
   "metadata": {},
   "outputs": [
    {
     "name": "stderr",
     "output_type": "stream",
     "text": [
      "C:\\Users\\lenovo\\AppData\\Local\\Temp/ipykernel_6056/2330327642.py:1: UserWarning: color is redundantly defined by the 'color' keyword argument and the fmt string \"k\" (-> color=(0.0, 0.0, 0.0, 1)). The keyword argument will take precedence.\n",
      "  plot(result[\"t\"], result[\"y\"][0], \"k\",color='green',label=r'$x(t)$')\n",
      "C:\\Users\\lenovo\\AppData\\Local\\Temp/ipykernel_6056/2330327642.py:2: UserWarning: color is redundantly defined by the 'color' keyword argument and the fmt string \"k\" (-> color=(0.0, 0.0, 0.0, 1)). The keyword argument will take precedence.\n",
      "  plot(result[\"t\"], result[\"y\"][1], \"k\",color='red',label=r'$y(t)$')\n",
      "C:\\Users\\lenovo\\AppData\\Local\\Temp/ipykernel_6056/2330327642.py:3: UserWarning: color is redundantly defined by the 'color' keyword argument and the fmt string \"k\" (-> color=(0.0, 0.0, 0.0, 1)). The keyword argument will take precedence.\n",
      "  plot(result[\"t\"], result[\"y\"][2], \"k\",color='yellow',label=r'$theta(t)$')\n"
     ]
    },
    {
     "data": {
      "text/plain": [
       "<matplotlib.legend.Legend at 0x1c353610be0>"
      ]
     },
     "execution_count": 43,
     "metadata": {},
     "output_type": "execute_result"
    },
    {
     "data": {
      "image/png": "[encoded data removed]",
      "text/plain": [
       "<Figure size 432x288 with 1 Axes>"
      ]
     },
     "metadata": {
      "needs_background": "light"
     },
     "output_type": "display_data"
    }
   ],
   "source": [
    "plot(result[\"t\"], result[\"y\"][0], \"k\",color='green',label=r'$x(t)$')\n",
    "plot(result[\"t\"], result[\"y\"][1], \"k\",color='red',label=r'$y(t)$')\n",
    "plot(result[\"t\"], result[\"y\"][2], \"k\",color='yellow',label=r'$theta(t)$')\n",
    "grid(True); xlabel(\"$t$\"); title(\"$x(t), y(t), theta(t)$\")\n",
    "legend()"
   ]
  },
  {
   "cell_type": "markdown",
   "metadata": {},
   "source": [
    "🧩 Use the simulation results to display the robot location every 0.5 second."
   ]
  },
  {
   "cell_type": "code",
   "execution_count": null,
   "metadata": {},
   "outputs": [],
   "source": []
  },
  {
   "cell_type": "markdown",
   "metadata": {},
   "source": [
    "🧩 What should be the analytical expression of $x(t)$, $y(t)$ and $\\theta(t)$? "
   ]
  },
  {
   "cell_type": "markdown",
   "metadata": {},
   "source": [
    "**Answer:**"
   ]
  },
  {
   "cell_type": "raw",
   "metadata": {},
   "source": [
    "omega_r0 = 12.5 * np.pi\n",
    "omega_l0 = 7.5 * np.pi\n",
    "x = 0.5*(omega_l0+omega_r0)*sin(theta)\n",
    "y = -0.5*(omega_l0+omega_r0)*cos(theta)\n",
    "theta = r*(omega_r0-omega_l0)*t\n"
   ]
  },
  {
   "cell_type": "markdown",
   "metadata": {},
   "source": [
    "🧩 Do your experimental results match the theoretical results ? Draw the curves of the simulation error at time $t$ for $x$, $y$ and $\\theta$."
   ]
  },
  {
   "cell_type": "code",
   "execution_count": 57,
   "metadata": {},
   "outputs": [
    {
     "ename": "AttributeError",
     "evalue": "module 'matplotlib' has no attribute 'errorbar'",
     "output_type": "error",
     "traceback": [
      "\u001b[1;31m---------------------------------------------------------------------------\u001b[0m",
      "\u001b[1;31mAttributeError\u001b[0m                            Traceback (most recent call last)",
      "\u001b[1;32m~\\AppData\\Local\\Temp/ipykernel_6056/4200394784.py\u001b[0m in \u001b[0;36m<module>\u001b[1;34m\u001b[0m\n\u001b[0;32m      1\u001b[0m \u001b[1;32mimport\u001b[0m \u001b[0mmatplotlib\u001b[0m \u001b[1;32mas\u001b[0m \u001b[0mplt\u001b[0m\u001b[1;33m\u001b[0m\u001b[1;33m\u001b[0m\u001b[0m\n\u001b[0;32m      2\u001b[0m \u001b[0myerr\u001b[0m \u001b[1;33m=\u001b[0m \u001b[0mabs\u001b[0m\u001b[1;33m(\u001b[0m\u001b[0mx\u001b[0m \u001b[1;33m-\u001b[0m  \u001b[0mnp\u001b[0m\u001b[1;33m.\u001b[0m\u001b[0mcos\u001b[0m\u001b[1;33m(\u001b[0m\u001b[1;36m2\u001b[0m\u001b[1;33m*\u001b[0m\u001b[0mresult\u001b[0m\u001b[1;33m[\u001b[0m\u001b[1;34m\"y\"\u001b[0m\u001b[1;33m]\u001b[0m\u001b[1;33m[\u001b[0m\u001b[1;36m0\u001b[0m\u001b[1;33m]\u001b[0m\u001b[1;33m)\u001b[0m\u001b[1;33m**\u001b[0m\u001b[1;36m2\u001b[0m\u001b[1;33m)\u001b[0m \u001b[1;31m#calcuating the y-error\u001b[0m\u001b[1;33m\u001b[0m\u001b[1;33m\u001b[0m\u001b[0m\n\u001b[1;32m----> 3\u001b[1;33m \u001b[0mplt\u001b[0m\u001b[1;33m.\u001b[0m\u001b[0merrorbar\u001b[0m\u001b[1;33m(\u001b[0m\u001b[0mresult\u001b[0m\u001b[1;33m[\u001b[0m\u001b[1;34m\"y\"\u001b[0m\u001b[1;33m]\u001b[0m\u001b[1;33m[\u001b[0m\u001b[1;36m0\u001b[0m\u001b[1;33m]\u001b[0m\u001b[1;33m,\u001b[0m \u001b[0mx\u001b[0m\u001b[1;33m,\u001b[0m\u001b[0myerr\u001b[0m\u001b[1;33m=\u001b[0m\u001b[0myerr\u001b[0m\u001b[1;33m,\u001b[0m \u001b[0mmarker\u001b[0m\u001b[1;33m=\u001b[0m\u001b[1;34m'o'\u001b[0m\u001b[1;33m,\u001b[0m \u001b[0mls\u001b[0m \u001b[1;33m=\u001b[0m\u001b[1;34m'none'\u001b[0m\u001b[1;33m,\u001b[0m \u001b[0mlabel\u001b[0m\u001b[1;33m=\u001b[0m\u001b[1;34m'Simulation Result'\u001b[0m\u001b[1;33m)\u001b[0m\u001b[1;33m\u001b[0m\u001b[1;33m\u001b[0m\u001b[0m\n\u001b[0m\u001b[0;32m      4\u001b[0m \u001b[0mplt\u001b[0m\u001b[1;33m.\u001b[0m\u001b[0mplot\u001b[0m\u001b[1;33m(\u001b[0m\u001b[0mtime\u001b[0m\u001b[1;33m,\u001b[0m \u001b[0my\u001b[0m\u001b[1;33m,\u001b[0m \u001b[0mcolor\u001b[0m\u001b[1;33m=\u001b[0m\u001b[1;34m'red'\u001b[0m\u001b[1;33m,\u001b[0m \u001b[0mlabel\u001b[0m\u001b[1;33m=\u001b[0m\u001b[1;34m'Exact Curve'\u001b[0m\u001b[1;33m)\u001b[0m\u001b[1;33m\u001b[0m\u001b[1;33m\u001b[0m\u001b[0m\n\u001b[0;32m      5\u001b[0m \u001b[0mplt\u001b[0m\u001b[1;33m.\u001b[0m\u001b[0mxlim\u001b[0m\u001b[1;33m(\u001b[0m\u001b[1;36m0\u001b[0m\u001b[1;33m,\u001b[0m \u001b[1;36m10\u001b[0m\u001b[1;33m)\u001b[0m\u001b[1;33m\u001b[0m\u001b[1;33m\u001b[0m\u001b[0m\n",
      "\u001b[1;31mAttributeError\u001b[0m: module 'matplotlib' has no attribute 'errorbar'"
     ]
    }
   ],
   "source": [
    "import matplotlib as plt\n",
    "yerr = abs(x -  np.cos(2*result[\"y\"][0])**2) #calcuating the y-error\n",
    "plt.errorbar(result[\"y\"][0], x,yerr=yerr, marker='o', ls ='none', label='Simulation Result') \n",
    "plt.plot(time, y, color='red', label='Exact Curve')\n",
    "plt.xlim(0, 10)\n",
    "plt.xlabel('Time')\n",
    "plt.ylabel('Probability Density')\n",
    "plt.title('Noisy Simulation: Time Dependent Probability Density')\n",
    "plt.legend()\n",
    "plt.show()"
   ]
  },
  {
   "cell_type": "markdown",
   "metadata": {},
   "source": [
    "🧩 If needed, adjust the simulation parameters until this error is uniformly less than $1e-5$ for each variable."
   ]
  },
  {
   "cell_type": "code",
   "execution_count": 11,
   "metadata": {},
   "outputs": [],
   "source": [
    "pass"
   ]
  }
 ],
 "metadata": {
  "kernelspec": {
   "display_name": "Python 3 (ipykernel)",
   "language": "python",
   "name": "python3"
  },
  "language_info": {
   "codemirror_mode": {
    "name": "ipython",
    "version": 3
   },
   "file_extension": ".py",
   "mimetype": "text/x-python",
   "name": "python",
   "nbconvert_exporter": "python",
   "pygments_lexer": "ipython3",
   "version": "3.9.7"
  }
 },
 "nbformat": 4,
 "nbformat_minor": 4
}
